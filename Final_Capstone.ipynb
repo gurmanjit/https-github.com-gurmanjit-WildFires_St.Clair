{
 "cells": [
  {
   "cell_type": "markdown",
   "metadata": {
    "_cell_guid": "16b9a924-98c0-4910-ad68-e8f38c7a361a",
    "_uuid": "d1eca50ff2b998cad1a86af673189753a18dc9e1"
   },
   "source": [
    "* Part 1: import libraries and data\n",
    "* Part 2: EDA\n",
    "* Part 3: Predict the cause of wildfire\n",
    "* Part 4: Try to predict if the fire was caused knowingly"
   ]
  },
  {
   "cell_type": "markdown",
   "metadata": {},
   "source": [
    "**Part 1**"
   ]
  },
  {
   "cell_type": "code",
   "execution_count": 10,
   "metadata": {
    "_cell_guid": "c7558936-62b9-44dd-b01e-3af43b04fb74",
    "_uuid": "1e144eea61cc07d233aa901e416f90777907937c"
   },
   "outputs": [],
   "source": [
    "import sqlite3\n",
    "import pandas as pd\n",
    "import matplotlib.pyplot as plt\n",
    "import numpy as np\n",
    "from sklearn import tree, preprocessing\n",
    "import sklearn.ensemble as ske\n",
    "from sklearn.model_selection import train_test_split\n",
    "from sklearn.preprocessing import MinMaxScaler\n",
    "from sklearn.metrics import classification_report, confusion_matrix\n",
    "from sklearn.ensemble import GradientBoostingClassifier\n",
    "from subprocess import check_output\n",
    "conn = sqlite3.connect(\"dta.sqlite\")\n",
    "import numpy as np\n",
    "from sklearn.linear_model import LinearRegression\n",
    "from sklearn import datasets, linear_model\n",
    "from sklearn.metrics import mean_squared_error, r2_score"
   ]
  },
  {
   "cell_type": "markdown",
   "metadata": {
    "_cell_guid": "952c749f-91d2-4038-9dde-11aa0297a0ab",
    "_uuid": "8d441df0991d82db217b9e665b2085c91ed8dd38"
   },
   "source": [
    "The code below is sql connection."
   ]
  },
  {
   "cell_type": "code",
   "execution_count": 11,
   "metadata": {
    "_cell_guid": "f9491178-b2d3-49ea-b453-8a301ca3feee",
    "_uuid": "0d17fa388980fb3bf95e876b6e4b2bec0e371080"
   },
   "outputs": [
    {
     "name": "stdout",
     "output_type": "stream",
     "text": [
      "   OBJECTID  FOD_ID      FPA_ID SOURCE_SYSTEM_TYPE SOURCE_SYSTEM  \\\n",
      "0         1       1  FS-1418826                FED   FS-FIRESTAT   \n",
      "1         2       2  FS-1418827                FED   FS-FIRESTAT   \n",
      "2         3       3  FS-1418835                FED   FS-FIRESTAT   \n",
      "3         4       4  FS-1418845                FED   FS-FIRESTAT   \n",
      "4         5       5  FS-1418847                FED   FS-FIRESTAT   \n",
      "\n",
      "  NWCG_REPORTING_AGENCY NWCG_REPORTING_UNIT_ID  NWCG_REPORTING_UNIT_NAME  \\\n",
      "0                    FS                USCAPNF    Plumas National Forest   \n",
      "1                    FS                USCAENF  Eldorado National Forest   \n",
      "2                    FS                USCAENF  Eldorado National Forest   \n",
      "3                    FS                USCAENF  Eldorado National Forest   \n",
      "4                    FS                USCAENF  Eldorado National Forest   \n",
      "\n",
      "  SOURCE_REPORTING_UNIT SOURCE_REPORTING_UNIT_NAME  ... FIRE_SIZE_CLASS  \\\n",
      "0                  0511     Plumas National Forest  ...               A   \n",
      "1                  0503   Eldorado National Forest  ...               A   \n",
      "2                  0503   Eldorado National Forest  ...               A   \n",
      "3                  0503   Eldorado National Forest  ...               A   \n",
      "4                  0503   Eldorado National Forest  ...               A   \n",
      "\n",
      "    LATITUDE   LONGITUDE OWNER_CODE       OWNER_DESCR STATE COUNTY FIPS_CODE  \\\n",
      "0  40.036944 -121.005833        5.0              USFS    CA     63       063   \n",
      "1  38.933056 -120.404444        5.0              USFS    CA     61       061   \n",
      "2  38.984167 -120.735556       13.0  STATE OR PRIVATE    CA     17       017   \n",
      "3  38.559167 -119.913333        5.0              USFS    CA      3       003   \n",
      "4  38.559167 -119.933056        5.0              USFS    CA      3       003   \n",
      "\n",
      "   FIPS_NAME                                              Shape  \n",
      "0     Plumas  b'\\x00\\x01\\xad\\x10\\x00\\x00\\xe8d\\xc2\\x92_@^\\xc0...  \n",
      "1     Placer  b'\\x00\\x01\\xad\\x10\\x00\\x00T\\xb6\\xeej\\xe2\\x19^\\...  \n",
      "2  El Dorado  b'\\x00\\x01\\xad\\x10\\x00\\x00\\xd0\\xa5\\xa0W\\x13/^\\...  \n",
      "3     Alpine  b'\\x00\\x01\\xad\\x10\\x00\\x00\\x94\\xac\\xa3\\rt\\xfa]...  \n",
      "4     Alpine  b'\\x00\\x01\\xad\\x10\\x00\\x00@\\xe3\\xaa.\\xb7\\xfb]\\...  \n",
      "\n",
      "[5 rows x 39 columns]\n"
     ]
    }
   ],
   "source": [
    "data = pd.read_sql_query(\"SELECT * FROM 'Fires'\", conn)\n",
    "print(data.head())"
   ]
  },
  {
   "cell_type": "markdown",
   "metadata": {},
   "source": [
    "The only columns we need are \"FIRE_YEAR,STAT_CAUSE_DESCR,LATITUDE,LONGITUDE,STATE,DISCOVERY_DATE,FIRE_SIZE\""
   ]
  },
  {
   "cell_type": "code",
   "execution_count": 12,
   "metadata": {},
   "outputs": [
    {
     "name": "stdout",
     "output_type": "stream",
     "text": [
      "   FIRE_YEAR STAT_CAUSE_DESCR   LATITUDE   LONGITUDE STATE  DISCOVERY_DATE  \\\n",
      "0       2005    Miscellaneous  40.036944 -121.005833    CA       2453403.5   \n",
      "1       2004        Lightning  38.933056 -120.404444    CA       2453137.5   \n",
      "2       2004   Debris Burning  38.984167 -120.735556    CA       2453156.5   \n",
      "3       2004        Lightning  38.559167 -119.913333    CA       2453184.5   \n",
      "4       2004        Lightning  38.559167 -119.933056    CA       2453184.5   \n",
      "\n",
      "   FIRE_SIZE  \n",
      "0       0.10  \n",
      "1       0.25  \n",
      "2       0.10  \n",
      "3       0.10  \n",
      "4       0.10  \n"
     ]
    }
   ],
   "source": [
    "data = pd.read_sql_query(\"SELECT FIRE_YEAR,STAT_CAUSE_DESCR,LATITUDE,LONGITUDE,STATE,DISCOVERY_DATE,FIRE_SIZE FROM 'Fires'\", conn)\n",
    "print(data.head())"
   ]
  },
  {
   "cell_type": "code",
   "execution_count": 13,
   "metadata": {},
   "outputs": [],
   "source": [
    "df= data[data.STAT_CAUSE_DESCR != 'Miscellaneous']"
   ]
  },
  {
   "cell_type": "code",
   "execution_count": 14,
   "metadata": {},
   "outputs": [],
   "source": [
    "df= data[data.STAT_CAUSE_DESCR != 'Missing/Undefined']"
   ]
  },
  {
   "cell_type": "code",
   "execution_count": 15,
   "metadata": {},
   "outputs": [],
   "source": [
    "data = df"
   ]
  },
  {
   "cell_type": "code",
   "execution_count": 16,
   "metadata": {},
   "outputs": [],
   "source": [
    "data.to_csv(r'D:\\ST.CLAIR\\Data.csv', index = False)"
   ]
  },
  {
   "cell_type": "markdown",
   "metadata": {
    "_cell_guid": "abf1b9f0-210d-4927-8bf8-5182a317fd97",
    "_uuid": "97eef2260fb8f3e95a5eb8892c54f5ce9753ee0f"
   },
   "source": [
    "The most weird part of this dataset is the date format which is in JUILIAN format , its been converted into Georgian so that it is generalized."
   ]
  },
  {
   "cell_type": "code",
   "execution_count": 17,
   "metadata": {
    "_cell_guid": "141469aa-0be5-410c-aa44-048157ea026d",
    "_uuid": "74269d69550a248cd07b992e7d3622324bd03599"
   },
   "outputs": [
    {
     "name": "stdout",
     "output_type": "stream",
     "text": [
      "   FIRE_YEAR STAT_CAUSE_DESCR   LATITUDE   LONGITUDE STATE  DISCOVERY_DATE  \\\n",
      "0       2005    Miscellaneous  40.036944 -121.005833    CA       2453403.5   \n",
      "1       2004        Lightning  38.933056 -120.404444    CA       2453137.5   \n",
      "2       2004   Debris Burning  38.984167 -120.735556    CA       2453156.5   \n",
      "3       2004        Lightning  38.559167 -119.913333    CA       2453184.5   \n",
      "4       2004        Lightning  38.559167 -119.933056    CA       2453184.5   \n",
      "\n",
      "   FIRE_SIZE       DATE  \n",
      "0       0.10 2005-02-02  \n",
      "1       0.25 2004-05-12  \n",
      "2       0.10 2004-05-31  \n",
      "3       0.10 2004-06-28  \n",
      "4       0.10 2004-06-28  \n"
     ]
    }
   ],
   "source": [
    "data['DATE'] = pd.to_datetime(data['DISCOVERY_DATE'] - pd.Timestamp(0).to_julian_date(), unit='D')\n",
    "print(data.head()) #check the data"
   ]
  },
  {
   "cell_type": "code",
   "execution_count": 35,
   "metadata": {
    "_cell_guid": "9e1143cf-e5c4-4fcf-bf8a-1d315ad7dfa1",
    "_uuid": "a6be0d9337cfc9920ed3b1d5bfe71cb31c95d2bd"
   },
   "outputs": [
    {
     "name": "stdout",
     "output_type": "stream",
     "text": [
      "   FIRE_YEAR STAT_CAUSE_DESCR   LATITUDE   LONGITUDE STATE  DISCOVERY_DATE  \\\n",
      "0       2005    Miscellaneous  40.036944 -121.005833    CA       2453403.5   \n",
      "1       2004        Lightning  38.933056 -120.404444    CA       2453137.5   \n",
      "2       2004   Debris Burning  38.984167 -120.735556    CA       2453156.5   \n",
      "3       2004        Lightning  38.559167 -119.913333    CA       2453184.5   \n",
      "4       2004        Lightning  38.559167 -119.933056    CA       2453184.5   \n",
      "\n",
      "   FIRE_SIZE       DATE  MONTH  \\\n",
      "0       0.10 2005-02-02      2   \n",
      "1       0.25 2004-05-12      5   \n",
      "2       0.10 2004-05-31      5   \n",
      "3       0.10 2004-06-28      6   \n",
      "4       0.10 2004-06-28      6   \n",
      "\n",
      "                                         DAY_OF_WEEK  \n",
      "0  <bound method PandasDelegate._add_delegate_acc...  \n",
      "1  <bound method PandasDelegate._add_delegate_acc...  \n",
      "2  <bound method PandasDelegate._add_delegate_acc...  \n",
      "3  <bound method PandasDelegate._add_delegate_acc...  \n",
      "4  <bound method PandasDelegate._add_delegate_acc...  \n"
     ]
    }
   ],
   "source": [
    "data['MONTH'] = pd.DatetimeIndex(data['DATE']).month\n",
    "data['DAY_OF_WEEK'] = data['DATE'].dt.day_name\n",
    "data_orig = data.copy()\n",
    "print(data.head())"
   ]
  },
  {
   "cell_type": "code",
   "execution_count": 36,
   "metadata": {},
   "outputs": [],
   "source": [
    "data.to_csv(r'D:\\ST.CLAIR\\Data_mod.csv', index = False)"
   ]
  },
  {
   "cell_type": "markdown",
   "metadata": {
    "_cell_guid": "7252d991-19fc-4017-b583-079f139b27bd",
    "_uuid": "2a17e2a58f9ac4dccd205f5d01d42e1b31c6de62"
   },
   "source": [
    "**Part 2**\n",
    "\n",
    "**Exploratory Data Analysis (EDA):**\n",
    "\n",
    "Let us first start looking at the cause of fires"
   ]
  },
  {
   "cell_type": "code",
   "execution_count": 37,
   "metadata": {
    "_cell_guid": "d320fa3d-d6a8-4334-bb06-bee5a2f1b930",
    "_uuid": "9f6075beac87d7ddf64949d98efa920b8c7ec031"
   },
   "outputs": [
    {
     "data": {
      "image/png": "[encoded data removed]",
      "text/plain": [
       "<Figure size 432x288 with 1 Axes>"
      ]
     },
     "metadata": {
      "needs_background": "light"
     },
     "output_type": "display_data"
    }
   ],
   "source": [
    "data['STAT_CAUSE_DESCR'].value_counts().plot(kind='barh',color='coral')\n",
    "plt.show()"
   ]
  },
  {
   "cell_type": "markdown",
   "metadata": {
    "_cell_guid": "b3c92912-27e1-4533-b5dd-f3981afb3817",
    "_uuid": "b2c47ce8cea7c0787542024b7eb1e4631533e47b"
   },
   "source": [
    "So there are 13 causes of fire to be precise let us see if there is any unique pattern regarding the weekdays the fire is caused."
   ]
  },
  {
   "cell_type": "code",
   "execution_count": 38,
   "metadata": {
    "_cell_guid": "1d8dc404-73d4-4406-a444-68e855c0f234",
    "_uuid": "2baa724dbec8f70790d0020d00c653c4529882f4"
   },
   "outputs": [
    {
     "data": {
      "image/png": "[encoded data removed]",
      "text/plain": [
       "<Figure size 432x288 with 1 Axes>"
      ]
     },
     "metadata": {
      "needs_background": "light"
     },
     "output_type": "display_data"
    }
   ],
   "source": [
    "data['DAY_OF_WEEK'].value_counts().plot(kind='barh',color='coral')\n",
    "plt.show()"
   ]
  },
  {
   "cell_type": "markdown",
   "metadata": {
    "_cell_guid": "c879f3ac-4a59-4508-8f64-54fb24046d46",
    "_uuid": "9bec1bfb9a9c92a16c17716be45891ad89d6dc88"
   },
   "source": [
    "    All the days of week look almost looks same. Let us see the top caused reason for Fire."
   ]
  },
  {
   "cell_type": "code",
   "execution_count": 39,
   "metadata": {
    "_cell_guid": "b4ef6a48-da32-4a4a-85e0-3f3ec81426ad",
    "_uuid": "5244bb486a6a8ab8a2d196dc799d7ef896111a5f"
   },
   "outputs": [
    {
     "data": {
      "image/png": "[encoded data removed]",
      "text/plain": [
       "<Figure size 432x288 with 1 Axes>"
      ]
     },
     "metadata": {
      "needs_background": "light"
     },
     "output_type": "display_data"
    }
   ],
   "source": [
    "lightning = data[data['STAT_CAUSE_DESCR']=='Lightning']\n",
    "lightning['DAY_OF_WEEK'].value_counts().plot(kind='barh',color='coral')\n",
    "plt.show()"
   ]
  },
  {
   "cell_type": "markdown",
   "metadata": {
    "_cell_guid": "8807b535-c9c2-4587-848b-5972209e243f",
    "_uuid": "1df804689aa4b837bfd33040d44ceddc78c70af2"
   },
   "source": [
    "    Due to lightning the pattern is different so maybe the increase of fire on weekends could be because of man caused fire."
   ]
  },
  {
   "cell_type": "code",
   "execution_count": 40,
   "metadata": {
    "_cell_guid": "d76d6470-2f4f-42b9-9abf-f0c36b3fd472",
    "_uuid": "921b66558365b37143a8d0fe268cba42697fa761"
   },
   "outputs": [
    {
     "data": {
      "image/png": "[encoded data removed]",
      "text/plain": [
       "<Figure size 432x288 with 1 Axes>"
      ]
     },
     "metadata": {
      "needs_background": "light"
     },
     "output_type": "display_data"
    }
   ],
   "source": [
    "arson = data[data['STAT_CAUSE_DESCR']=='Arson']\n",
    "arson['DAY_OF_WEEK'].value_counts().plot(kind='barh',color='coral')\n",
    "plt.show()"
   ]
  },
  {
   "cell_type": "markdown",
   "metadata": {
    "_cell_guid": "45e23404-06a1-4d79-8488-573a10e1653c",
    "_uuid": "b7c07800a5915b9f8a0853225bafbbd9c73b10cc"
   },
   "source": [
    "The ARSON(MAN CAUSED) fire shows a good information that most of them are on weekend that means it could be because of campfires or similar things.\n",
    "\n",
    "Let us divide them by states now?"
   ]
  },
  {
   "cell_type": "code",
   "execution_count": 41,
   "metadata": {
    "_cell_guid": "5850f755-d838-49d3-9069-964c67498784",
    "_uuid": "494e73f3db7d0f6cd359c1b153e9b8ca3d0666a2"
   },
   "outputs": [
    {
     "data": {
      "image/png": "[encoded data removed]",
      "text/plain": [
       "<Figure size 432x288 with 1 Axes>"
      ]
     },
     "metadata": {
      "needs_background": "light"
     },
     "output_type": "display_data"
    }
   ],
   "source": [
    "data['STATE'].value_counts().head(n=10).plot(kind='barh',color='coral')\n",
    "plt.show()"
   ]
  },
  {
   "cell_type": "markdown",
   "metadata": {
    "_cell_guid": "e86edfe7-3ada-4a7a-883a-b9e0b5e1651b",
    "_uuid": "67c9f364f21bf6f7ec8d09a99f1ad17367d3f440"
   },
   "source": [
    "Let us norrow down to top 3"
   ]
  },
  {
   "cell_type": "code",
   "execution_count": 42,
   "metadata": {
    "_cell_guid": "eec30520-755b-4d1b-a77d-149becf0bae0",
    "_uuid": "05d45f8001b67691c96966fe4b9b425c7bf7ab98"
   },
   "outputs": [],
   "source": [
    "CA = data[data['STATE']=='CA']\n",
    "GA = data[data['STATE']=='GA']\n",
    "TX = data[data['STATE']=='TX']"
   ]
  },
  {
   "cell_type": "code",
   "execution_count": 43,
   "metadata": {
    "_cell_guid": "c31f2045-964a-41b2-8e11-541a4afa2024",
    "_uuid": "f7bd095ffb9eef7c9be3d179654cb3f9c527d5a0"
   },
   "outputs": [
    {
     "data": {
      "image/png": "[encoded data removed]",
      "text/plain": [
       "<Figure size 432x288 with 1 Axes>"
      ]
     },
     "metadata": {
      "needs_background": "light"
     },
     "output_type": "display_data"
    }
   ],
   "source": [
    "CA['STAT_CAUSE_DESCR'].value_counts().plot(kind='barh',color='coral',title='causes of fires for CA')\n",
    "plt.show()"
   ]
  },
  {
   "cell_type": "code",
   "execution_count": 44,
   "metadata": {
    "_cell_guid": "a771520b-a49a-4e1a-9e2d-a19b32dfa25f",
    "_uuid": "96ba5f8d5af37ab9021bac8b8b383d2c007350df"
   },
   "outputs": [
    {
     "data": {
      "image/png": "[encoded data removed]",
      "text/plain": [
       "<Figure size 432x288 with 1 Axes>"
      ]
     },
     "metadata": {
      "needs_background": "light"
     },
     "output_type": "display_data"
    }
   ],
   "source": [
    "GA['STAT_CAUSE_DESCR'].value_counts().plot(kind='barh',color='coral',title='causes of fires for GA')\n",
    "plt.show()"
   ]
  },
  {
   "cell_type": "code",
   "execution_count": 45,
   "metadata": {
    "_cell_guid": "476673cb-c8ee-4ced-9478-4c480356dd86",
    "_uuid": "851ec8eec7c4b182390aa7dbf1be6f1c2bb3eafb",
    "scrolled": true
   },
   "outputs": [
    {
     "data": {
      "image/png": "[encoded data removed]",
      "text/plain": [
       "<Figure size 432x288 with 1 Axes>"
      ]
     },
     "metadata": {
      "needs_background": "light"
     },
     "output_type": "display_data"
    }
   ],
   "source": [
    "TX['STAT_CAUSE_DESCR'].value_counts().plot(kind='barh',color='coral',title='causes of fires for TX')\n",
    "plt.show()"
   ]
  },
  {
   "cell_type": "markdown",
   "metadata": {
    "_cell_guid": "5ce059e5-1959-436f-b2d2-67a9a86e03be",
    "_uuid": "d7656ff9f18153823ed56632d3c9d14f6e5e0e1c"
   },
   "source": [
    "Let us create a rough map using scatter plot as we have the Latitude and Longitude"
   ]
  },
  {
   "cell_type": "code",
   "execution_count": 46,
   "metadata": {
    "_cell_guid": "f3104147-5f1d-4956-949d-1c94fa8ebf3f",
    "_uuid": "23dbac00c3a0a0eec99ac9764e2f1fd912014713"
   },
   "outputs": [
    {
     "data": {
      "image/png": "[encoded data removed]",
      "text/plain": [
       "<Figure size 432x288 with 1 Axes>"
      ]
     },
     "metadata": {
      "needs_background": "light"
     },
     "output_type": "display_data"
    }
   ],
   "source": [
    "data.plot(kind='scatter',x='LONGITUDE',y='LATITUDE',color='coral',alpha=0.3)\n",
    "plt.show()"
   ]
  },
  {
   "cell_type": "markdown",
   "metadata": {
    "_cell_guid": "b09a0137-505c-46fe-8c2e-574755d6010a",
    "_uuid": "a213cf1f9e6fc95d649bab79479c2da3ae9a4dac"
   },
   "source": [
    "There are lot of categories in this dataset so let us use One Hot Encoding to find the correlation between all these."
   ]
  },
  {
   "cell_type": "code",
   "execution_count": 47,
   "metadata": {
    "_cell_guid": "0f2e332d-cafa-47b5-9560-dcc05d4be256",
    "_uuid": "c930f198331177a02e90dd4004f2d2fd65a7e5ac"
   },
   "outputs": [
    {
     "name": "stdout",
     "output_type": "stream",
     "text": [
      "   FIRE_YEAR  STAT_CAUSE_DESCR   LATITUDE   LONGITUDE  STATE  DISCOVERY_DATE  \\\n",
      "0       2005                 7  40.036944 -121.005833      4       2453403.5   \n",
      "1       2004                 6  38.933056 -120.404444      4       2453137.5   \n",
      "2       2004                 3  38.984167 -120.735556      4       2453156.5   \n",
      "3       2004                 6  38.559167 -119.913333      4       2453184.5   \n",
      "4       2004                 6  38.559167 -119.933056      4       2453184.5   \n",
      "\n",
      "   FIRE_SIZE       DATE  MONTH  DAY_OF_WEEK  \n",
      "0       0.10 2005-02-02      2            0  \n",
      "1       0.25 2004-05-12      5            0  \n",
      "2       0.10 2004-05-31      5            0  \n",
      "3       0.10 2004-06-28      6            0  \n",
      "4       0.10 2004-06-28      6            0  \n"
     ]
    }
   ],
   "source": [
    "le = preprocessing.LabelEncoder()\n",
    "data['STAT_CAUSE_DESCR'] = le.fit_transform(data['STAT_CAUSE_DESCR'])\n",
    "data['STATE'] = le.fit_transform(data['STATE'])\n",
    "data['DAY_OF_WEEK'] = le.fit_transform(data['DAY_OF_WEEK'])\n",
    "print(data.head())"
   ]
  },
  {
   "cell_type": "code",
   "execution_count": 48,
   "metadata": {
    "_cell_guid": "a3ed644b-80a3-4bd8-ac6c-cc0772203613",
    "_uuid": "d9aff0e4e41263a34f258d8f62160293d7bc6852"
   },
   "outputs": [
    {
     "data": {
      "image/png": "[encoded data removed]",
      "text/plain": [
       "<Figure size 720x720 with 1 Axes>"
      ]
     },
     "metadata": {
      "needs_background": "light"
     },
     "output_type": "display_data"
    }
   ],
   "source": [
    "def plot_corr(data,size=10):\n",
    "    corr = data.corr()  #the default method is pearson\n",
    "    fig, ax = plt.subplots(figsize=(size, size))\n",
    "    ax.matshow(corr,cmap=plt.cm.Oranges)\n",
    "    plt.xticks(range(len(corr.columns)), corr.columns)\n",
    "    plt.yticks(range(len(corr.columns)), corr.columns)\n",
    "    for tick in ax.get_xticklabels():\n",
    "        tick.set_rotation(45)    \n",
    "    plt.show()\n",
    "    \n",
    "\n",
    "    \n",
    "plot_corr(data)"
   ]
  },
  {
   "cell_type": "markdown",
   "metadata": {
    "_cell_guid": "7f4ee430-3add-4801-933d-41e96e4b2ca3",
    "_uuid": "00887bfbb183b46fb896bc8374c6a2a336178f49"
   },
   "source": [
    "Good correlation between month and latitude, weather and season are related, less correlation between longitude and month\n",
    "& No Correlation of Target variable with any"
   ]
  },
  {
   "cell_type": "markdown",
   "metadata": {},
   "source": [
    "**Part 3**"
   ]
  },
  {
   "cell_type": "markdown",
   "metadata": {
    "_cell_guid": "4e04c953-12b4-4318-867d-98e820111068",
    "_uuid": "5079f837526a82eb5af2fcc17e9e71556e6139cc"
   },
   "source": [
    "**Preparing the data for machine learning**\n",
    "\n",
    "Dropping the Dates and NA's"
   ]
  },
  {
   "cell_type": "code",
   "execution_count": 49,
   "metadata": {
    "_cell_guid": "f7cbef43-7564-4a96-94ab-c790ae43261f",
    "_uuid": "5d47f92df7808ab5f65c0e6aeaad63f65cdb9729"
   },
   "outputs": [],
   "source": [
    "data = data.drop('DATE',axis=1)\n",
    "data = data.dropna()"
   ]
  },
  {
   "cell_type": "markdown",
   "metadata": {
    "_cell_guid": "1e0db330-c479-4f28-af9d-761b356eb728",
    "_uuid": "5513c0fd64e98413fd8361ecd687ca465a82f388"
   },
   "source": [
    "Our Target variable is Cause of Fire(\" STAT_CAUSE_DESCR \")"
   ]
  },
  {
   "cell_type": "code",
   "execution_count": 50,
   "metadata": {
    "_cell_guid": "e9c3f2b3-a125-4352-add0-95f00d659ad4",
    "_uuid": "094d3500463ccf94dc5405c30f695b2b71b1f39f"
   },
   "outputs": [],
   "source": [
    "X = data.drop(['STAT_CAUSE_DESCR'], axis=1).values\n",
    "y = data['STAT_CAUSE_DESCR'].values"
   ]
  },
  {
   "cell_type": "markdown",
   "metadata": {},
   "source": [
    "Logistic Regression"
   ]
  },
  {
   "cell_type": "code",
   "execution_count": 51,
   "metadata": {
    "_cell_guid": "e11ac5a4-b955-4942-abe9-d266f6d8ee32",
    "_uuid": "e51f77adb3d5e6f307389667b053b207a18c29f0"
   },
   "outputs": [],
   "source": [
    "X_train, X_test, y_train, y_test = train_test_split(X,y,test_size=0.3, random_state=0) #30% for testing, 70% for training"
   ]
  },
  {
   "cell_type": "code",
   "execution_count": 52,
   "metadata": {},
   "outputs": [],
   "source": [
    "regr = linear_model.LinearRegression()"
   ]
  },
  {
   "cell_type": "code",
   "execution_count": 53,
   "metadata": {},
   "outputs": [
    {
     "data": {
      "text/plain": [
       "LinearRegression(copy_X=True, fit_intercept=True, n_jobs=None, normalize=False)"
      ]
     },
     "execution_count": 53,
     "metadata": {},
     "output_type": "execute_result"
    }
   ],
   "source": [
    "# Train the model using the training sets\n",
    "regr.fit(X_train,y_train)"
   ]
  },
  {
   "cell_type": "code",
   "execution_count": 54,
   "metadata": {},
   "outputs": [],
   "source": [
    "# Make predictions using the testing set\n",
    "y_pred = regr.predict(X_test)"
   ]
  },
  {
   "cell_type": "code",
   "execution_count": 55,
   "metadata": {
    "scrolled": true
   },
   "outputs": [
    {
     "name": "stdout",
     "output_type": "stream",
     "text": [
      "Coefficients: \n",
      " [ 3.60261607e-01  1.02836719e-02 -2.56735414e-02  4.57186647e-03\n",
      " -9.12902449e-04  6.17059500e-06  8.13555053e-02  0.00000000e+00]\n",
      "Mean squared error: 7.32\n",
      "Coefficient of determination: 0.04\n"
     ]
    }
   ],
   "source": [
    "# The coefficients\n",
    "print('Coefficients: \\n', regr.coef_)\n",
    "# The mean squared error\n",
    "print('Mean squared error: %.2f'\n",
    "      % mean_squared_error(y_test,y_pred))\n",
    "# The coefficient of determination: 1 is perfect prediction\n",
    "print('Coefficient of determination: %.2f'\n",
    "      % r2_score(y_test,y_pred))"
   ]
  },
  {
   "cell_type": "code",
   "execution_count": 56,
   "metadata": {},
   "outputs": [
    {
     "data": {
      "text/plain": [
       "LinearRegression(copy_X=True, fit_intercept=True, n_jobs=None, normalize=False)"
      ]
     },
     "execution_count": 56,
     "metadata": {},
     "output_type": "execute_result"
    }
   ],
   "source": [
    "regr.fit(X_train,y_train)"
   ]
  },
  {
   "cell_type": "code",
   "execution_count": 57,
   "metadata": {},
   "outputs": [
    {
     "data": {
      "text/plain": [
       "0.03602787016554121"
      ]
     },
     "execution_count": 57,
     "metadata": {},
     "output_type": "execute_result"
    }
   ],
   "source": [
    "regr.score(X_train, y_train)"
   ]
  },
  {
   "cell_type": "code",
   "execution_count": 58,
   "metadata": {},
   "outputs": [
    {
     "data": {
      "text/plain": [
       "LinearRegression(copy_X=True, fit_intercept=True, n_jobs=None, normalize=False)"
      ]
     },
     "execution_count": 58,
     "metadata": {},
     "output_type": "execute_result"
    }
   ],
   "source": [
    "regr.fit(X_test,y_test)"
   ]
  },
  {
   "cell_type": "code",
   "execution_count": 59,
   "metadata": {},
   "outputs": [
    {
     "data": {
      "text/plain": [
       "0.035932645368474736"
      ]
     },
     "execution_count": 59,
     "metadata": {},
     "output_type": "execute_result"
    }
   ],
   "source": [
    "regr.score(X_test, y_test)"
   ]
  },
  {
   "cell_type": "markdown",
   "metadata": {},
   "source": [
    "Decision Tree"
   ]
  },
  {
   "cell_type": "code",
   "execution_count": 60,
   "metadata": {},
   "outputs": [],
   "source": [
    "from sklearn import tree"
   ]
  },
  {
   "cell_type": "code",
   "execution_count": 61,
   "metadata": {},
   "outputs": [
    {
     "ename": "NameError",
     "evalue": "name 'clf' is not defined",
     "output_type": "error",
     "traceback": [
      "\u001b[1;31m---------------------------------------------------------------------------\u001b[0m",
      "\u001b[1;31mNameError\u001b[0m                                 Traceback (most recent call last)",
      "\u001b[1;32m<ipython-input-61-d66470e4667c>\u001b[0m in \u001b[0;36m<module>\u001b[1;34m\u001b[0m\n\u001b[1;32m----> 1\u001b[1;33m \u001b[0mtree\u001b[0m\u001b[1;33m.\u001b[0m\u001b[0mplot_tree\u001b[0m\u001b[1;33m(\u001b[0m\u001b[0mclf\u001b[0m\u001b[1;33m.\u001b[0m\u001b[0mfit\u001b[0m\u001b[1;33m(\u001b[0m\u001b[0mX_train\u001b[0m\u001b[1;33m,\u001b[0m\u001b[0my_train\u001b[0m\u001b[1;33m)\u001b[0m\u001b[1;33m)\u001b[0m\u001b[1;33m\u001b[0m\u001b[1;33m\u001b[0m\u001b[0m\n\u001b[0m",
      "\u001b[1;31mNameError\u001b[0m: name 'clf' is not defined"
     ]
    }
   ],
   "source": [
    "tree.plot_tree(clf.fit(X_train,y_train))"
   ]
  },
  {
   "cell_type": "code",
   "execution_count": null,
   "metadata": {},
   "outputs": [],
   "source": [
    "clf = tree.DecisionTreeRegressor(max_depth=35)"
   ]
  },
  {
   "cell_type": "code",
   "execution_count": null,
   "metadata": {
    "scrolled": true
   },
   "outputs": [],
   "source": [
    "clf.fit(X_train, y_train)"
   ]
  },
  {
   "cell_type": "code",
   "execution_count": null,
   "metadata": {},
   "outputs": [],
   "source": [
    "clf.score(X_train, y_train)"
   ]
  },
  {
   "cell_type": "code",
   "execution_count": null,
   "metadata": {
    "scrolled": true
   },
   "outputs": [],
   "source": [
    "clf.fit(X_test, y_test)"
   ]
  },
  {
   "cell_type": "code",
   "execution_count": null,
   "metadata": {},
   "outputs": [],
   "source": [
    "clf.score(X_test, y_test)"
   ]
  },
  {
   "cell_type": "markdown",
   "metadata": {
    "_cell_guid": "702432d9-b078-49a8-8998-333082bfd610",
    "_uuid": "36069b3bd03f404156e3373d2b0bef67bf5b9b52"
   },
   "source": [
    "Random Forest"
   ]
  },
  {
   "cell_type": "code",
   "execution_count": null,
   "metadata": {
    "_cell_guid": "fecfae02-1bc4-4919-9f81-819a084ebf98",
    "_uuid": "bc393791b1db7ddefd3169dde1b70976505bf134"
   },
   "outputs": [],
   "source": [
    "clf_rf = ske.RandomForestClassifier(n_estimators=50)\n",
    "clf_rf = clf_rf.fit(X_train, y_train)\n",
    "print(clf_rf.score(X_test,y_test))"
   ]
  },
  {
   "cell_type": "code",
   "execution_count": null,
   "metadata": {},
   "outputs": [],
   "source": []
  },
  {
   "cell_type": "markdown",
   "metadata": {
    "_cell_guid": "ebebc0da-7acf-4422-a6d6-e945550ef182",
    "_uuid": "d2fe8d2fbc324b970a4f71b8d3512eea0ca58b47"
   },
   "source": [
    "Let us narrow down the classes as there are a lot of classes related to the cause of fire and wich could be tideous while predicting the cause of it."
   ]
  },
  {
   "cell_type": "code",
   "execution_count": null,
   "metadata": {
    "_cell_guid": "f888288f-dfb6-46e8-89e3-0dd422c7e50e",
    "_uuid": "1172af6ec3de0ae3c97796860334faeb80672da4",
    "code_folding": [],
    "scrolled": true
   },
   "outputs": [],
   "source": [
    "def set_label(cat):\n",
    "    cause = 0\n",
    "    natural = ['Lightning']\n",
    "    accidental = ['Structure','Fireworks','Powerline','Railroad','Smoking','Children','Campfire','Equipment Use','Debris Burning']\n",
    "    malicious = ['Arson']\n",
    "    other = ['Missing/Undefined','Miscellaneous']\n",
    "    if cat in natural:\n",
    "        cause = 1\n",
    "    elif cat in accidental:\n",
    "        cause = 2\n",
    "    elif cat in malicious:\n",
    "        cause = 3\n",
    "    else:\n",
    "        cause = 4\n",
    "    return cause\n",
    "     \n",
    "\n",
    "data['LABEL'] = data_orig['STAT_CAUSE_DESCR'].apply(lambda x: set_label(x)) # I created a copy of the original data earlier in the kernel\n",
    "data = data.drop('STAT_CAUSE_DESCR',axis=1)\n",
    "print(data.head())"
   ]
  },
  {
   "cell_type": "markdown",
   "metadata": {
    "_cell_guid": "eacab390-2e5d-4d80-8572-17e2a1b2428b",
    "_uuid": "d059b4e2a30d7520f323286c12788df93eab05f1"
   },
   "source": [
    "Let us try to predict the LABEL now."
   ]
  },
  {
   "cell_type": "code",
   "execution_count": null,
   "metadata": {
    "_cell_guid": "8c2a20be-e3ed-4f38-85c2-9f77de6e9d00",
    "_uuid": "99fe5637627005e36010fff605e26ff883b738fa"
   },
   "outputs": [],
   "source": [
    "X = data.drop(['LABEL'], axis=1).values\n",
    "y = data['LABEL'].values\n",
    "X_train, X_test, y_train, y_test = train_test_split(X,y,test_size=0.3, random_state=0)\n",
    "clf_rf = ske.RandomForestClassifier(n_estimators=50)\n",
    "clf_rf = clf_rf.fit(X_train, y_train)\n",
    "print(clf_rf.score(X_test,y_test))"
   ]
  },
  {
   "cell_type": "markdown",
   "metadata": {
    "_cell_guid": "4fd3f741-6923-4622-a29e-ed0418c2aec2",
    "_uuid": "d65fe3bfd48968103b55ffffe4620a9d23c7914a"
   },
   "source": [
    "Reducing the Classes did turn out to be a good decision"
   ]
  },
  {
   "cell_type": "code",
   "execution_count": null,
   "metadata": {
    "_cell_guid": "9e6861ec-a5d6-48ca-b911-8c6f92ac8716",
    "_uuid": "63d1f0e9a661b72390b0016b330382a617048fe6"
   },
   "outputs": [],
   "source": [
    "from sklearn.metrics import confusion_matrix\n",
    "y_pred = clf_rf.fit(X_train, y_train).predict(X_test)\n",
    "cm = confusion_matrix(y_true=y_test,y_pred=y_pred)\n",
    "print(cm)"
   ]
  },
  {
   "cell_type": "markdown",
   "metadata": {
    "_cell_guid": "1a72bee7-32e6-4b94-b5b3-8d19c6a2964c",
    "_uuid": "9716f941a653ebb1567dcbfb782db41faec49ce6"
   },
   "source": [
    "Accuracy and Confusion matrix simplified according to Label below"
   ]
  },
  {
   "cell_type": "code",
   "execution_count": null,
   "metadata": {
    "_cell_guid": "1446c6df-3a1e-479c-8451-daa404783135",
    "_uuid": "474589469b314e5bf4c77bf2f0d48f20c5e14f6f"
   },
   "outputs": [],
   "source": [
    "cmn = cm.astype('float') / cm.sum(axis=1)[:, np.newaxis]\n",
    "fig,ax = plt.subplots(figsize=(10,10))\n",
    "ax.matshow(cmn,cmap=plt.cm.Oranges,alpha=0.7)\n",
    "for i in range(cmn.shape[0]):\n",
    "    for j in range(cmn.shape[1]):\n",
    "        ax.text(x=j,y=i,s=cmn[i,j],va='center',ha='center')\n",
    "plt.xlabel('predicted label')\n",
    "plt.ylabel('true label')\n",
    "plt.show()"
   ]
  },
  {
   "cell_type": "markdown",
   "metadata": {},
   "source": [
    "**Part 4**\n",
    "\n",
    "Narrowing down to States"
   ]
  },
  {
   "cell_type": "code",
   "execution_count": null,
   "metadata": {},
   "outputs": [],
   "source": [
    "print(CA.head())"
   ]
  },
  {
   "cell_type": "markdown",
   "metadata": {},
   "source": [
    "Create a new field: ARSON"
   ]
  },
  {
   "cell_type": "code",
   "execution_count": null,
   "metadata": {},
   "outputs": [],
   "source": [
    "def set_arson_label(cause):\n",
    "    arson = 0\n",
    "    if cause == 'Arson':\n",
    "        arson = 1\n",
    "    return arson\n",
    "     \n",
    "\n",
    "CA['ARSON'] = CA['STAT_CAUSE_DESCR'].apply(lambda x: set_arson_label(x)) \n",
    "print(CA.head())"
   ]
  },
  {
   "cell_type": "markdown",
   "metadata": {},
   "source": [
    "We can drop the DATE, STATE, FIRE_SIZE and STAT_CAUSE_DESCR fields and convert the DAY_OF_WEEK to numerical values."
   ]
  },
  {
   "cell_type": "code",
   "execution_count": null,
   "metadata": {
    "scrolled": true
   },
   "outputs": [],
   "source": [
    "le = preprocessing.LabelEncoder()\n",
    "CA['DAY_OF_WEEK'] = le.fit_transform(CA['DAY_OF_WEEK'])\n",
    "\n",
    "print(CA.head())"
   ]
  },
  {
   "cell_type": "markdown",
   "metadata": {},
   "source": [
    "# From Here "
   ]
  },
  {
   "cell_type": "code",
   "execution_count": 61,
   "metadata": {
    "scrolled": true
   },
   "outputs": [
    {
     "name": "stdout",
     "output_type": "stream",
     "text": [
      "  STAT_CAUSE_DESCR   LATITUDE   LONGITUDE STATE  FIRE_SIZE\n",
      "0    Miscellaneous  40.036944 -121.005833    CA       0.10\n",
      "1        Lightning  38.933056 -120.404444    CA       0.25\n",
      "2   Debris Burning  38.984167 -120.735556    CA       0.10\n",
      "3        Lightning  38.559167 -119.913333    CA       0.10\n",
      "4        Lightning  38.559167 -119.933056    CA       0.10\n"
     ]
    }
   ],
   "source": [
    "data1 = pd.read_sql_query(\"SELECT STAT_CAUSE_DESCR,LATITUDE,LONGITUDE,STATE,FIRE_SIZE FROM 'Fires'\", conn)\n",
    "print(data1.head())\n",
    "data1_orig = data1.copy()"
   ]
  },
  {
   "cell_type": "code",
   "execution_count": 62,
   "metadata": {},
   "outputs": [
    {
     "name": "stdout",
     "output_type": "stream",
     "text": [
      "   FIRE_YEAR   LATITUDE   LONGITUDE  STATE  DISCOVERY_DATE  FIRE_SIZE  MONTH  \\\n",
      "1       2004  38.933056 -120.404444      4       2453137.5       0.25      5   \n",
      "2       2004  38.984167 -120.735556      4       2453156.5       0.10      5   \n",
      "3       2004  38.559167 -119.913333      4       2453184.5       0.10      6   \n",
      "4       2004  38.559167 -119.933056      4       2453184.5       0.10      6   \n",
      "5       2004  38.635278 -120.103611      4       2453186.5       0.10      6   \n",
      "\n",
      "   DAY_OF_WEEK  LABEL  \n",
      "1            6      1  \n",
      "2            1      2  \n",
      "3            1      1  \n",
      "4            1      1  \n",
      "5            6      1  \n"
     ]
    }
   ],
   "source": [
    "def set_label(cat):\n",
    "    cause = 0\n",
    "    natural = ['Lightning']\n",
    "    accidental = ['Structure','Fireworks','Powerline','Railroad','Smoking','Children','Campfire','Equipment Use','Debris Burning']\n",
    "    malicious = ['Arson']\n",
    "    other = ['Missing/Undefined','Miscellaneous']\n",
    "    if cat in natural:\n",
    "        cause = 1\n",
    "    elif cat in accidental:\n",
    "        cause = 2\n",
    "    elif cat in malicious:\n",
    "        cause = 3\n",
    "    else:\n",
    "        cause = 4\n",
    "    return cause\n",
    "     \n",
    "\n",
    "data1['LABEL'] = data1_orig['STAT_CAUSE_DESCR'].apply(lambda x: set_label(x)) # I created a copy of the original data earlier in the kernel\n",
    "data1 = data1.drop('STAT_CAUSE_DESCR',axis=1)\n",
    "print(data.head())"
   ]
  },
  {
   "cell_type": "code",
   "execution_count": 72,
   "metadata": {},
   "outputs": [
    {
     "name": "stdout",
     "output_type": "stream",
     "text": [
      "    LATITUDE   LONGITUDE  STATE  FIRE_SIZE  LABEL\n",
      "0  40.036944 -121.005833      4       0.10      4\n",
      "1  38.933056 -120.404444      4       0.25      1\n",
      "2  38.984167 -120.735556      4       0.10      2\n",
      "3  38.559167 -119.913333      4       0.10      1\n",
      "4  38.559167 -119.933056      4       0.10      1\n"
     ]
    }
   ],
   "source": [
    "le = preprocessing.LabelEncoder()\n",
    "data1['STATE'] = le.fit_transform(data1['STATE'])\n",
    "\n",
    "print(data1.head())"
   ]
  },
  {
   "cell_type": "code",
   "execution_count": 73,
   "metadata": {},
   "outputs": [],
   "source": [
    "\n",
    "\n",
    "X = data1.drop(['LABEL'], axis=1).values\n",
    "y = data1['LABEL'].values\n",
    "Xx_train, Xx_test, yy_train, yy_test = train_test_split(X,y,test_size=0.3, random_state=0)"
   ]
  },
  {
   "cell_type": "code",
   "execution_count": null,
   "metadata": {},
   "outputs": [],
   "source": [
    "from sklearn.svm import SVC\n",
    "svc = SVC(kernel = 'rbf', C= 10, gamma =0.1) \n",
    "svc.fit(Xx_train,yy_train)"
   ]
  },
  {
   "cell_type": "code",
   "execution_count": null,
   "metadata": {},
   "outputs": [],
   "source": [
    "from sklearn import svm\n",
    "\n",
    "#Create a svm Classifier\n",
    "clf = svm.SVC(kernel='linear') # Linear Kernel"
   ]
  },
  {
   "cell_type": "code",
   "execution_count": null,
   "metadata": {},
   "outputs": [],
   "source": [
    "#Train the model using the training sets\n",
    "clf.fit(X_train, y_train)"
   ]
  },
  {
   "cell_type": "code",
   "execution_count": null,
   "metadata": {},
   "outputs": [],
   "source": [
    "\n",
    "#Predict the response for test dataset\n",
    "y_pred = clf.predict(X_test)"
   ]
  },
  {
   "cell_type": "code",
   "execution_count": null,
   "metadata": {},
   "outputs": [],
   "source": [
    "from sklearn import metrics\n",
    "print(\"Accuracy:\",metrics.accuracy_score(y_test, y_pred))\n",
    "print(\"Precision:\",metrics.precision_score(y_test, y_pred))\n",
    "print(\"Recall:\",metrics.recall_score(y_test, y_pred))"
   ]
  },
  {
   "cell_type": "markdown",
   "metadata": {
    "_cell_guid": "81be7d8b-b23d-4594-8e89-2a66baea73b0",
    "_uuid": "0188853e4f4ec629f5507b14c9e9cf6d91dceb4e"
   },
   "source": [
    "We can now test the ML:"
   ]
  },
  {
   "cell_type": "code",
   "execution_count": null,
   "metadata": {},
   "outputs": [],
   "source": [
    "X = CA.drop(['ARSON'], axis=1).values\n",
    "y = CA['ARSON'].values\n",
    "X_train, X_test, y_train, y_test = train_test_split(X,y,test_size=0.3, random_state=0) #30% for testing, 70% for training\n",
    "clf_rf = ske.RandomForestClassifier(n_estimators=200)\n",
    "clf_rf = clf_rf.fit(X_train, y_train)\n",
    "print(clf_rf.score(X_test,y_test))"
   ]
  },
  {
   "cell_type": "markdown",
   "metadata": {},
   "source": [
    "Summary:\n",
    "Given some basic data, the kind of data available when a fire is first discovered, it is possible to predict with some accuracy if the firs wa the result of arson."
   ]
  },
  {
   "cell_type": "code",
   "execution_count": null,
   "metadata": {},
   "outputs": [],
   "source": []
  }
 ],
 "metadata": {
  "kernelspec": {
   "display_name": "Python 3",
   "language": "python",
   "name": "python3"
  },
  "language_info": {
   "codemirror_mode": {
    "name": "ipython",
    "version": 3
   },
   "file_extension": ".py",
   "mimetype": "text/x-python",
   "name": "python",
   "nbconvert_exporter": "python",
   "pygments_lexer": "ipython3",
   "version": "3.7.4"
  }
 },
 "nbformat": 4,
 "nbformat_minor": 1
}
